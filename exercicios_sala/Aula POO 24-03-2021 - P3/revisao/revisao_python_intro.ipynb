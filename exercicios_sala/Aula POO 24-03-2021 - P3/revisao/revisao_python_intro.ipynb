{
 "cells": [
  {
   "cell_type": "code",
   "execution_count": 1,
   "metadata": {},
   "outputs": [
    {
     "name": "stdout",
     "output_type": "stream",
     "text": [
      "7.875\n"
     ]
    }
   ],
   "source": [
    "# a média ponderada de 02 números\n",
    "# ERRADO!!!!!!!!!!\n",
    "x = (2*3) +(3*5) / (3+5)\n",
    "print(x)"
   ]
  },
  {
   "cell_type": "code",
   "execution_count": 3,
   "metadata": {},
   "outputs": [
    {
     "name": "stdout",
     "output_type": "stream",
     "text": [
      "7.875\n"
     ]
    }
   ],
   "source": [
    "a = (3*5)/(3+5)\n",
    "b = (2*3)\n",
    "x = a+b\n",
    "print(x)"
   ]
  },
  {
   "cell_type": "code",
   "execution_count": 4,
   "metadata": {},
   "outputs": [
    {
     "name": "stdout",
     "output_type": "stream",
     "text": [
      "2.625\n"
     ]
    }
   ],
   "source": [
    "# CORRETO !!!!!!\n",
    "x = ((2*3) + (3*5)) / (3+5)\n",
    "print(x)"
   ]
  },
  {
   "cell_type": "code",
   "execution_count": 8,
   "metadata": {},
   "outputs": [
    {
     "name": "stdout",
     "output_type": "stream",
     "text": [
      "Digite a quantidade vendida: 500\n",
      "Digite o valor do produto: 10\n",
      "Comissão: 625.0\n"
     ]
    }
   ],
   "source": [
    "qtde = int(input('Digite a quantidade vendida: '))\n",
    "valor_produto = float(input('Digite o valor do produto: '))\n",
    "valor_total = valor_produto * qtde\n",
    "\n",
    "if (qtde < 20):\n",
    "    comissao = valor_total * 0.00\n",
    "    print('Comissão: {}'.format(comissao))\n",
    "elif (qtde >= 20) and (qtde < 50):\n",
    "    comissao = valor_total * 0.05\n",
    "    print('Comissão: {}'.format(comissao))\n",
    "elif (qtde >= 50) and (qtde < 100):\n",
    "    comissao = valor_total * 0.075\n",
    "    print('Comissão: {}'.format(comissao))\n",
    "elif (qtde >= 100) and (qtde < 500):\n",
    "    comissao = valor_total * 0.10\n",
    "    print('Comissão: {}'.format(comissao))\n",
    "else:\n",
    "    comissao = valor_total * 0.125\n",
    "    print('Comissão: {}'.format(comissao))"
   ]
  },
  {
   "cell_type": "code",
   "execution_count": 9,
   "metadata": {},
   "outputs": [
    {
     "name": "stdout",
     "output_type": "stream",
     "text": [
      "11, 10, 9, 8, 7, 6, 5, 4, 3, 2, 1, "
     ]
    }
   ],
   "source": [
    "for numero in range(11, 0, -1):\n",
    "    print(numero, end = ', ')"
   ]
  },
  {
   "cell_type": "code",
   "execution_count": 10,
   "metadata": {},
   "outputs": [
    {
     "name": "stdout",
     "output_type": "stream",
     "text": [
      "abacaxi, limão, maça, banana, "
     ]
    }
   ],
   "source": [
    "#                      0       1        2        3 (n - 1) 4 elementos n - 1 = 4 - 1 = 3\n",
    "cesta_de_frutas = ['banana', 'maça', 'limão', 'abacaxi']\n",
    "for posicao in range(3, -1, -1):\n",
    "    print(cesta_de_frutas[posicao], end = ', ')"
   ]
  },
  {
   "cell_type": "code",
   "execution_count": 18,
   "metadata": {},
   "outputs": [
    {
     "name": "stdout",
     "output_type": "stream",
     "text": [
      "abacaxi, limão, maça, banana, "
     ]
    }
   ],
   "source": [
    "#                      0       1        2        3 (n - 1) 4 elementos n - 1 = 4 - 1 = 3\n",
    "cesta_de_frutas = ['banana', 'maça', 'limão', 'abacaxi']\n",
    "posicao = 3\n",
    "while posicao >= 0:\n",
    "    print(cesta_de_frutas[posicao], end = ', ')\n",
    "    posicao += -1"
   ]
  },
  {
   "cell_type": "code",
   "execution_count": 19,
   "metadata": {},
   "outputs": [
    {
     "name": "stdout",
     "output_type": "stream",
     "text": [
      "banana, maça, limão, abacaxi, "
     ]
    }
   ],
   "source": [
    "#                      0       1        2        3 (n - 1) 4 elementos n - 1 = 4 - 1 = 3\n",
    "cesta_de_frutas = ['banana', 'maça', 'limão', 'abacaxi']\n",
    "posicao = 0\n",
    "while posicao <= 3:\n",
    "    print(cesta_de_frutas[posicao], end = ', ')\n",
    "    posicao += 1"
   ]
  },
  {
   "cell_type": "code",
   "execution_count": null,
   "metadata": {},
   "outputs": [],
   "source": []
  },
  {
   "cell_type": "code",
   "execution_count": null,
   "metadata": {},
   "outputs": [],
   "source": []
  },
  {
   "cell_type": "code",
   "execution_count": null,
   "metadata": {},
   "outputs": [],
   "source": []
  },
  {
   "cell_type": "code",
   "execution_count": null,
   "metadata": {},
   "outputs": [],
   "source": []
  },
  {
   "cell_type": "code",
   "execution_count": null,
   "metadata": {},
   "outputs": [],
   "source": []
  },
  {
   "cell_type": "code",
   "execution_count": null,
   "metadata": {},
   "outputs": [],
   "source": []
  }
 ],
 "metadata": {
  "kernelspec": {
   "display_name": "Python 3",
   "language": "python",
   "name": "python3"
  },
  "language_info": {
   "codemirror_mode": {
    "name": "ipython",
    "version": 3
   },
   "file_extension": ".py",
   "mimetype": "text/x-python",
   "name": "python",
   "nbconvert_exporter": "python",
   "pygments_lexer": "ipython3",
   "version": "3.7.9"
  }
 },
 "nbformat": 4,
 "nbformat_minor": 4
}
